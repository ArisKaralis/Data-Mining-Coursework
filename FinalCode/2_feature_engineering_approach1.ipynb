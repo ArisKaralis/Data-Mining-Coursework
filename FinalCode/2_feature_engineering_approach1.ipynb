{
 "cells": [
  {
   "cell_type": "markdown",
   "id": "2f00e98a",
   "metadata": {},
   "source": [
    "# Alzheimer's Disease Prediction - Feature Engineering Approach 1: Statistical Methods\n",
    "\n",
    "This notebook implements feature engineering techniques using statistical approaches for feature selection and transformation for Alzheimer's disease prediction."
   ]
  },
  {
   "cell_type": "code",
   "execution_count": 4,
   "id": "76cd4d04",
   "metadata": {},
   "outputs": [],
   "source": [
    "# Import necessary libraries\n",
    "import pandas as pd\n",
    "import numpy as np\n",
    "import matplotlib.pyplot as plt\n",
    "import seaborn as sns\n",
    "from scipy.stats import chi2_contingency, mannwhitneyu\n",
    "from sklearn.preprocessing import StandardScaler, OneHotEncoder, OrdinalEncoder\n",
    "from sklearn.feature_selection import mutual_info_classif, SelectKBest, chi2\n",
    "from sklearn.compose import ColumnTransformer\n",
    "from sklearn.pipeline import Pipeline\n",
    "from sklearn.model_selection import train_test_split\n",
    "from sklearn.impute import SimpleImputer\n",
    "\n",
    "# Set plot styling\n",
    "plt.style.use('seaborn-v0_8-whitegrid')\n",
    "sns.set(font_scale=1.2)\n",
    "\n",
    "# To display plots inline\n",
    "%matplotlib inline"
   ]
  },
  {
   "cell_type": "markdown",
   "id": "6e7dcfc6",
   "metadata": {},
   "source": [
    "## 1. Data Loading and Preparation"
   ]
  },
  {
   "cell_type": "code",
   "execution_count": 5,
   "id": "7a774b0b",
   "metadata": {},
   "outputs": [
    {
     "name": "stdout",
     "output_type": "stream",
     "text": [
      "Dataset shape: (74283, 25)\n"
     ]
    },
    {
     "data": {
      "application/vnd.microsoft.datawrangler.viewer.v0+json": {
       "columns": [
        {
         "name": "index",
         "rawType": "int64",
         "type": "integer"
        },
        {
         "name": "Country",
         "rawType": "object",
         "type": "string"
        },
        {
         "name": "Age",
         "rawType": "int64",
         "type": "integer"
        },
        {
         "name": "Gender",
         "rawType": "object",
         "type": "string"
        },
        {
         "name": "Education Level",
         "rawType": "int64",
         "type": "integer"
        },
        {
         "name": "BMI",
         "rawType": "float64",
         "type": "float"
        },
        {
         "name": "Physical Activity Level",
         "rawType": "object",
         "type": "string"
        },
        {
         "name": "Smoking Status",
         "rawType": "object",
         "type": "string"
        },
        {
         "name": "Alcohol Consumption",
         "rawType": "object",
         "type": "string"
        },
        {
         "name": "Diabetes",
         "rawType": "object",
         "type": "string"
        },
        {
         "name": "Hypertension",
         "rawType": "object",
         "type": "string"
        },
        {
         "name": "Cholesterol Level",
         "rawType": "object",
         "type": "string"
        },
        {
         "name": "Family History of Alzheimer’s",
         "rawType": "object",
         "type": "string"
        },
        {
         "name": "Cognitive Test Score",
         "rawType": "int64",
         "type": "integer"
        },
        {
         "name": "Depression Level",
         "rawType": "object",
         "type": "string"
        },
        {
         "name": "Sleep Quality",
         "rawType": "object",
         "type": "string"
        },
        {
         "name": "Dietary Habits",
         "rawType": "object",
         "type": "string"
        },
        {
         "name": "Air Pollution Exposure",
         "rawType": "object",
         "type": "string"
        },
        {
         "name": "Employment Status",
         "rawType": "object",
         "type": "string"
        },
        {
         "name": "Marital Status",
         "rawType": "object",
         "type": "string"
        },
        {
         "name": "Genetic Risk Factor (APOE-ε4 allele)",
         "rawType": "object",
         "type": "string"
        },
        {
         "name": "Social Engagement Level",
         "rawType": "object",
         "type": "string"
        },
        {
         "name": "Income Level",
         "rawType": "object",
         "type": "string"
        },
        {
         "name": "Stress Levels",
         "rawType": "object",
         "type": "string"
        },
        {
         "name": "Urban vs Rural Living",
         "rawType": "object",
         "type": "string"
        },
        {
         "name": "Alzheimer’s Diagnosis",
         "rawType": "object",
         "type": "string"
        }
       ],
       "ref": "2d6d1f16-a437-4815-b6fb-0650b7e35da3",
       "rows": [
        [
         "0",
         "Spain",
         "90",
         "Male",
         "1",
         "33.0",
         "Medium",
         "Never",
         "Occasionally",
         "No",
         "No",
         "Normal",
         "No",
         "90",
         "Low",
         "Poor",
         "Healthy",
         "High",
         "Retired",
         "Single",
         "No",
         "Low",
         "Medium",
         "High",
         "Urban",
         "No"
        ],
        [
         "1",
         "Argentina",
         "72",
         "Male",
         "7",
         "29.9",
         "Medium",
         "Former",
         "Never",
         "No",
         "No",
         "Normal",
         "No",
         "65",
         "Low",
         "Good",
         "Healthy",
         "Medium",
         "Unemployed",
         "Widowed",
         "No",
         "High",
         "Low",
         "High",
         "Urban",
         "No"
        ],
        [
         "2",
         "South Africa",
         "86",
         "Female",
         "19",
         "22.9",
         "High",
         "Current",
         "Occasionally",
         "No",
         "Yes",
         "Normal",
         "No",
         "43",
         "High",
         "Good",
         "Average",
         "Medium",
         "Employed",
         "Single",
         "No",
         "Low",
         "Medium",
         "High",
         "Rural",
         "No"
        ],
        [
         "3",
         "China",
         "53",
         "Male",
         "17",
         "31.2",
         "Low",
         "Never",
         "Regularly",
         "Yes",
         "No",
         "Normal",
         "No",
         "81",
         "Medium",
         "Average",
         "Healthy",
         "Medium",
         "Retired",
         "Single",
         "No",
         "High",
         "Medium",
         "Low",
         "Rural",
         "No"
        ],
        [
         "4",
         "Sweden",
         "58",
         "Female",
         "3",
         "30.0",
         "High",
         "Former",
         "Never",
         "Yes",
         "No",
         "Normal",
         "No",
         "49",
         "High",
         "Poor",
         "Unhealthy",
         "High",
         "Employed",
         "Married",
         "No",
         "Low",
         "Medium",
         "High",
         "Rural",
         "No"
        ]
       ],
       "shape": {
        "columns": 25,
        "rows": 5
       }
      },
      "text/html": [
       "<div>\n",
       "<style scoped>\n",
       "    .dataframe tbody tr th:only-of-type {\n",
       "        vertical-align: middle;\n",
       "    }\n",
       "\n",
       "    .dataframe tbody tr th {\n",
       "        vertical-align: top;\n",
       "    }\n",
       "\n",
       "    .dataframe thead th {\n",
       "        text-align: right;\n",
       "    }\n",
       "</style>\n",
       "<table border=\"1\" class=\"dataframe\">\n",
       "  <thead>\n",
       "    <tr style=\"text-align: right;\">\n",
       "      <th></th>\n",
       "      <th>Country</th>\n",
       "      <th>Age</th>\n",
       "      <th>Gender</th>\n",
       "      <th>Education Level</th>\n",
       "      <th>BMI</th>\n",
       "      <th>Physical Activity Level</th>\n",
       "      <th>Smoking Status</th>\n",
       "      <th>Alcohol Consumption</th>\n",
       "      <th>Diabetes</th>\n",
       "      <th>Hypertension</th>\n",
       "      <th>...</th>\n",
       "      <th>Dietary Habits</th>\n",
       "      <th>Air Pollution Exposure</th>\n",
       "      <th>Employment Status</th>\n",
       "      <th>Marital Status</th>\n",
       "      <th>Genetic Risk Factor (APOE-ε4 allele)</th>\n",
       "      <th>Social Engagement Level</th>\n",
       "      <th>Income Level</th>\n",
       "      <th>Stress Levels</th>\n",
       "      <th>Urban vs Rural Living</th>\n",
       "      <th>Alzheimer’s Diagnosis</th>\n",
       "    </tr>\n",
       "  </thead>\n",
       "  <tbody>\n",
       "    <tr>\n",
       "      <th>0</th>\n",
       "      <td>Spain</td>\n",
       "      <td>90</td>\n",
       "      <td>Male</td>\n",
       "      <td>1</td>\n",
       "      <td>33.0</td>\n",
       "      <td>Medium</td>\n",
       "      <td>Never</td>\n",
       "      <td>Occasionally</td>\n",
       "      <td>No</td>\n",
       "      <td>No</td>\n",
       "      <td>...</td>\n",
       "      <td>Healthy</td>\n",
       "      <td>High</td>\n",
       "      <td>Retired</td>\n",
       "      <td>Single</td>\n",
       "      <td>No</td>\n",
       "      <td>Low</td>\n",
       "      <td>Medium</td>\n",
       "      <td>High</td>\n",
       "      <td>Urban</td>\n",
       "      <td>No</td>\n",
       "    </tr>\n",
       "    <tr>\n",
       "      <th>1</th>\n",
       "      <td>Argentina</td>\n",
       "      <td>72</td>\n",
       "      <td>Male</td>\n",
       "      <td>7</td>\n",
       "      <td>29.9</td>\n",
       "      <td>Medium</td>\n",
       "      <td>Former</td>\n",
       "      <td>Never</td>\n",
       "      <td>No</td>\n",
       "      <td>No</td>\n",
       "      <td>...</td>\n",
       "      <td>Healthy</td>\n",
       "      <td>Medium</td>\n",
       "      <td>Unemployed</td>\n",
       "      <td>Widowed</td>\n",
       "      <td>No</td>\n",
       "      <td>High</td>\n",
       "      <td>Low</td>\n",
       "      <td>High</td>\n",
       "      <td>Urban</td>\n",
       "      <td>No</td>\n",
       "    </tr>\n",
       "    <tr>\n",
       "      <th>2</th>\n",
       "      <td>South Africa</td>\n",
       "      <td>86</td>\n",
       "      <td>Female</td>\n",
       "      <td>19</td>\n",
       "      <td>22.9</td>\n",
       "      <td>High</td>\n",
       "      <td>Current</td>\n",
       "      <td>Occasionally</td>\n",
       "      <td>No</td>\n",
       "      <td>Yes</td>\n",
       "      <td>...</td>\n",
       "      <td>Average</td>\n",
       "      <td>Medium</td>\n",
       "      <td>Employed</td>\n",
       "      <td>Single</td>\n",
       "      <td>No</td>\n",
       "      <td>Low</td>\n",
       "      <td>Medium</td>\n",
       "      <td>High</td>\n",
       "      <td>Rural</td>\n",
       "      <td>No</td>\n",
       "    </tr>\n",
       "    <tr>\n",
       "      <th>3</th>\n",
       "      <td>China</td>\n",
       "      <td>53</td>\n",
       "      <td>Male</td>\n",
       "      <td>17</td>\n",
       "      <td>31.2</td>\n",
       "      <td>Low</td>\n",
       "      <td>Never</td>\n",
       "      <td>Regularly</td>\n",
       "      <td>Yes</td>\n",
       "      <td>No</td>\n",
       "      <td>...</td>\n",
       "      <td>Healthy</td>\n",
       "      <td>Medium</td>\n",
       "      <td>Retired</td>\n",
       "      <td>Single</td>\n",
       "      <td>No</td>\n",
       "      <td>High</td>\n",
       "      <td>Medium</td>\n",
       "      <td>Low</td>\n",
       "      <td>Rural</td>\n",
       "      <td>No</td>\n",
       "    </tr>\n",
       "    <tr>\n",
       "      <th>4</th>\n",
       "      <td>Sweden</td>\n",
       "      <td>58</td>\n",
       "      <td>Female</td>\n",
       "      <td>3</td>\n",
       "      <td>30.0</td>\n",
       "      <td>High</td>\n",
       "      <td>Former</td>\n",
       "      <td>Never</td>\n",
       "      <td>Yes</td>\n",
       "      <td>No</td>\n",
       "      <td>...</td>\n",
       "      <td>Unhealthy</td>\n",
       "      <td>High</td>\n",
       "      <td>Employed</td>\n",
       "      <td>Married</td>\n",
       "      <td>No</td>\n",
       "      <td>Low</td>\n",
       "      <td>Medium</td>\n",
       "      <td>High</td>\n",
       "      <td>Rural</td>\n",
       "      <td>No</td>\n",
       "    </tr>\n",
       "  </tbody>\n",
       "</table>\n",
       "<p>5 rows × 25 columns</p>\n",
       "</div>"
      ],
      "text/plain": [
       "        Country  Age  Gender  Education Level   BMI Physical Activity Level  \\\n",
       "0         Spain   90    Male                1  33.0                  Medium   \n",
       "1     Argentina   72    Male                7  29.9                  Medium   \n",
       "2  South Africa   86  Female               19  22.9                    High   \n",
       "3         China   53    Male               17  31.2                     Low   \n",
       "4        Sweden   58  Female                3  30.0                    High   \n",
       "\n",
       "  Smoking Status Alcohol Consumption Diabetes Hypertension  ...  \\\n",
       "0          Never        Occasionally       No           No  ...   \n",
       "1         Former               Never       No           No  ...   \n",
       "2        Current        Occasionally       No          Yes  ...   \n",
       "3          Never           Regularly      Yes           No  ...   \n",
       "4         Former               Never      Yes           No  ...   \n",
       "\n",
       "  Dietary Habits Air Pollution Exposure  Employment Status Marital Status  \\\n",
       "0        Healthy                   High            Retired         Single   \n",
       "1        Healthy                 Medium         Unemployed        Widowed   \n",
       "2        Average                 Medium           Employed         Single   \n",
       "3        Healthy                 Medium            Retired         Single   \n",
       "4      Unhealthy                   High           Employed        Married   \n",
       "\n",
       "  Genetic Risk Factor (APOE-ε4 allele) Social Engagement Level Income Level  \\\n",
       "0                                   No                     Low       Medium   \n",
       "1                                   No                    High          Low   \n",
       "2                                   No                     Low       Medium   \n",
       "3                                   No                    High       Medium   \n",
       "4                                   No                     Low       Medium   \n",
       "\n",
       "  Stress Levels Urban vs Rural Living Alzheimer’s Diagnosis  \n",
       "0          High                 Urban                    No  \n",
       "1          High                 Urban                    No  \n",
       "2          High                 Rural                    No  \n",
       "3           Low                 Rural                    No  \n",
       "4          High                 Rural                    No  \n",
       "\n",
       "[5 rows x 25 columns]"
      ]
     },
     "execution_count": 5,
     "metadata": {},
     "output_type": "execute_result"
    }
   ],
   "source": [
    "# Load the dataset\n",
    "data = pd.read_csv('../alzheimers_prediction_dataset.csv')\n",
    "\n",
    "# Basic check of the data\n",
    "print(f\"Dataset shape: {data.shape}\")\n",
    "data.head()"
   ]
  },
  {
   "cell_type": "code",
   "execution_count": 6,
   "id": "99fa7dde",
   "metadata": {},
   "outputs": [
    {
     "name": "stdout",
     "output_type": "stream",
     "text": [
      "Missing values per column:\n"
     ]
    },
    {
     "data": {
      "application/vnd.microsoft.datawrangler.viewer.v0+json": {
       "columns": [
        {
         "name": "index",
         "rawType": "object",
         "type": "string"
        },
        {
         "name": "0",
         "rawType": "int64",
         "type": "integer"
        }
       ],
       "ref": "d52e9ad5-37eb-491f-ae0a-10d5500afd08",
       "rows": [],
       "shape": {
        "columns": 1,
        "rows": 0
       }
      },
      "text/plain": [
       "Series([], dtype: int64)"
      ]
     },
     "execution_count": 6,
     "metadata": {},
     "output_type": "execute_result"
    }
   ],
   "source": [
    "# Check if there are any missing values\n",
    "missing_values = data.isnull().sum()\n",
    "print(\"Missing values per column:\")\n",
    "missing_values[missing_values > 0]"
   ]
  },
  {
   "cell_type": "code",
   "execution_count": 7,
   "id": "f3e1f7fe",
   "metadata": {},
   "outputs": [
    {
     "name": "stdout",
     "output_type": "stream",
     "text": [
      "Numerical features: ['Age', 'Education Level', 'BMI', 'Cognitive Test Score']\n",
      "Binary features: ['Gender', 'Diabetes', 'Hypertension', 'Cholesterol Level', 'Family History of Alzheimer’s', 'Genetic Risk Factor (APOE-ε4 allele)', 'Urban vs Rural Living', 'Alzheimer’s Diagnosis']\n",
      "Ordinal features: ['Physical Activity Level', 'Depression Level', 'Sleep Quality', 'Dietary Habits', 'Air Pollution Exposure', 'Social Engagement Level', 'Income Level', 'Stress Levels']\n",
      "Nominal features: ['Country', 'Smoking Status', 'Alcohol Consumption', 'Employment Status', 'Marital Status']\n"
     ]
    }
   ],
   "source": [
    "# Categorize features\n",
    "def categorize_features(df):\n",
    "    # Define numerical features\n",
    "    numerical_features = ['Age', 'Education Level', 'BMI', 'Cognitive Test Score']\n",
    "    \n",
    "    # Define categorical features\n",
    "    categorical_features = [col for col in df.columns if col not in numerical_features]\n",
    "    \n",
    "    # Define binary features\n",
    "    binary_features = [\n",
    "        'Gender', 'Diabetes', 'Hypertension', 'Cholesterol Level',\n",
    "        'Family History of Alzheimer’s', 'Genetic Risk Factor (APOE-ε4 allele)',\n",
    "        'Urban vs Rural Living', \"Alzheimer’s Diagnosis\"\n",
    "    ]\n",
    "    \n",
    "    # Define ordinal features\n",
    "    ordinal_features = [\n",
    "        'Physical Activity Level', 'Depression Level', 'Sleep Quality',\n",
    "        'Dietary Habits', 'Air Pollution Exposure', 'Social Engagement Level',\n",
    "        'Income Level', 'Stress Levels'\n",
    "    ]\n",
    "    \n",
    "    # Define nominal features (categorical features that are not ordinal or binary)\n",
    "    nominal_features = [col for col in categorical_features if col not in binary_features and col not in ordinal_features]\n",
    "    \n",
    "    return numerical_features, categorical_features, binary_features, ordinal_features, nominal_features\n",
    "\n",
    "numerical_features, categorical_features, binary_features, ordinal_features, nominal_features = categorize_features(data)\n",
    "\n",
    "print(\"Numerical features:\", numerical_features)\n",
    "print(\"Binary features:\", binary_features)\n",
    "print(\"Ordinal features:\", ordinal_features)\n",
    "print(\"Nominal features:\", nominal_features)"
   ]
  },
  {
   "cell_type": "markdown",
   "id": "929148cb",
   "metadata": {},
   "source": [
    "## 2. Feature Engineering"
   ]
  },
  {
   "cell_type": "markdown",
   "id": "5768c959",
   "metadata": {},
   "source": [
    "### 2.1 Encoding Categorical Variables"
   ]
  },
  {
   "cell_type": "code",
   "execution_count": 8,
   "id": "1f4406fa",
   "metadata": {},
   "outputs": [
    {
     "name": "stdout",
     "output_type": "stream",
     "text": [
      "Encoded binary feature: Gender\n",
      "Encoded binary feature: Diabetes\n",
      "Encoded binary feature: Hypertension\n",
      "Encoded binary feature: Cholesterol Level\n",
      "Encoded binary feature: Family History of Alzheimer’s\n",
      "Encoded binary feature: Genetic Risk Factor (APOE-ε4 allele)\n",
      "Encoded binary feature: Urban vs Rural Living\n",
      "Encoded binary feature: Alzheimer’s Diagnosis\n"
     ]
    }
   ],
   "source": [
    "# Create a copy of the data for feature engineering\n",
    "data_fe = data.copy()\n",
    "\n",
    "# Binary encoding for binary variables\n",
    "binary_mapping = {'No': 0, 'Yes': 1, 'Female': 0, 'Male': 1, \n",
    "                 'Normal': 0, 'High': 1, 'Rural': 0, 'Urban': 1}\n",
    "\n",
    "for col in binary_features:\n",
    "    data_fe[col] = data_fe[col].astype(str).str.lower().map({\n",
    "        'no': 0, 'yes': 1, 'female': 0, 'male': 1,\n",
    "        'normal': 0, 'high': 1, 'rural': 0, 'urban': 1\n",
    "    })\n",
    "    print(f\"Encoded binary feature: {col}\")"
   ]
  },
  {
   "cell_type": "code",
   "execution_count": 9,
   "id": "ad5f7c04",
   "metadata": {},
   "outputs": [
    {
     "name": "stdout",
     "output_type": "stream",
     "text": [
      "Ordinally encoded: Physical Activity Level\n",
      "Ordinally encoded: Depression Level\n",
      "Ordinally encoded: Sleep Quality\n",
      "Ordinally encoded: Dietary Habits\n",
      "Ordinally encoded: Air Pollution Exposure\n",
      "Ordinally encoded: Social Engagement Level\n",
      "Ordinally encoded: Income Level\n",
      "Ordinally encoded: Stress Levels\n",
      "Ordinally encoded: Smoking Status\n",
      "Ordinally encoded: Alcohol Consumption\n"
     ]
    }
   ],
   "source": [
    "# Ordinal encoding for ordinal variables\n",
    "ordinal_mappings = {\n",
    "    'Physical Activity Level': {'low': 0, 'medium': 1, 'high': 2},\n",
    "    'Depression Level': {'low': 0, 'medium': 1, 'high': 2},\n",
    "    'Sleep Quality': {'poor': 0, 'average': 1, 'good': 2},\n",
    "    'Dietary Habits': {'unhealthy': 0, 'average': 1, 'healthy': 2},\n",
    "    'Air Pollution Exposure': {'low': 0, 'medium': 1, 'high': 2},\n",
    "    'Social Engagement Level': {'low': 0, 'medium': 1, 'high': 2},\n",
    "    'Income Level': {'low': 0, 'medium': 1, 'high': 2},\n",
    "    'Stress Levels': {'low': 0, 'medium': 1, 'high': 2},\n",
    "    'Smoking Status': {'never': 0, 'former': 1, 'current': 2},\n",
    "    'Alcohol Consumption': {'never': 0, 'occasionally': 1, 'regularly': 2}\n",
    "}\n",
    "\n",
    "for col, mapping in ordinal_mappings.items():\n",
    "    if col in data_fe.columns:\n",
    "        data_fe[col] = data_fe[col].astype(str).str.lower().map(mapping)\n",
    "        print(f\"Ordinally encoded: {col}\")"
   ]
  },
  {
   "cell_type": "code",
   "execution_count": 10,
   "id": "211b37b8",
   "metadata": {},
   "outputs": [
    {
     "name": "stdout",
     "output_type": "stream",
     "text": [
      "Applied one-hot encoding to nominal features: ['Country', 'Employment Status', 'Marital Status']\n"
     ]
    }
   ],
   "source": [
    "# One-hot encoding for nominal variables\n",
    "nominal_columns = ['Country', 'Employment Status', 'Marital Status']\n",
    "data_fe = pd.get_dummies(data_fe, columns=nominal_columns, drop_first=True)\n",
    "print(\"Applied one-hot encoding to nominal features:\", nominal_columns)"
   ]
  },
  {
   "cell_type": "code",
   "execution_count": 11,
   "id": "553db6c0",
   "metadata": {},
   "outputs": [
    {
     "name": "stdout",
     "output_type": "stream",
     "text": [
      "Shape after encoding: (74283, 45)\n"
     ]
    },
    {
     "data": {
      "application/vnd.microsoft.datawrangler.viewer.v0+json": {
       "columns": [
        {
         "name": "index",
         "rawType": "int64",
         "type": "integer"
        },
        {
         "name": "Age",
         "rawType": "int64",
         "type": "integer"
        },
        {
         "name": "Gender",
         "rawType": "int64",
         "type": "integer"
        },
        {
         "name": "Education Level",
         "rawType": "int64",
         "type": "integer"
        },
        {
         "name": "BMI",
         "rawType": "float64",
         "type": "float"
        },
        {
         "name": "Physical Activity Level",
         "rawType": "int64",
         "type": "integer"
        },
        {
         "name": "Smoking Status",
         "rawType": "int64",
         "type": "integer"
        },
        {
         "name": "Alcohol Consumption",
         "rawType": "int64",
         "type": "integer"
        },
        {
         "name": "Diabetes",
         "rawType": "int64",
         "type": "integer"
        },
        {
         "name": "Hypertension",
         "rawType": "int64",
         "type": "integer"
        },
        {
         "name": "Cholesterol Level",
         "rawType": "int64",
         "type": "integer"
        },
        {
         "name": "Family History of Alzheimer’s",
         "rawType": "int64",
         "type": "integer"
        },
        {
         "name": "Cognitive Test Score",
         "rawType": "int64",
         "type": "integer"
        },
        {
         "name": "Depression Level",
         "rawType": "int64",
         "type": "integer"
        },
        {
         "name": "Sleep Quality",
         "rawType": "int64",
         "type": "integer"
        },
        {
         "name": "Dietary Habits",
         "rawType": "int64",
         "type": "integer"
        },
        {
         "name": "Air Pollution Exposure",
         "rawType": "int64",
         "type": "integer"
        },
        {
         "name": "Genetic Risk Factor (APOE-ε4 allele)",
         "rawType": "int64",
         "type": "integer"
        },
        {
         "name": "Social Engagement Level",
         "rawType": "int64",
         "type": "integer"
        },
        {
         "name": "Income Level",
         "rawType": "int64",
         "type": "integer"
        },
        {
         "name": "Stress Levels",
         "rawType": "int64",
         "type": "integer"
        },
        {
         "name": "Urban vs Rural Living",
         "rawType": "int64",
         "type": "integer"
        },
        {
         "name": "Alzheimer’s Diagnosis",
         "rawType": "int64",
         "type": "integer"
        },
        {
         "name": "Country_Australia",
         "rawType": "bool",
         "type": "boolean"
        },
        {
         "name": "Country_Brazil",
         "rawType": "bool",
         "type": "boolean"
        },
        {
         "name": "Country_Canada",
         "rawType": "bool",
         "type": "boolean"
        },
        {
         "name": "Country_China",
         "rawType": "bool",
         "type": "boolean"
        },
        {
         "name": "Country_France",
         "rawType": "bool",
         "type": "boolean"
        },
        {
         "name": "Country_Germany",
         "rawType": "bool",
         "type": "boolean"
        },
        {
         "name": "Country_India",
         "rawType": "bool",
         "type": "boolean"
        },
        {
         "name": "Country_Italy",
         "rawType": "bool",
         "type": "boolean"
        },
        {
         "name": "Country_Japan",
         "rawType": "bool",
         "type": "boolean"
        },
        {
         "name": "Country_Mexico",
         "rawType": "bool",
         "type": "boolean"
        },
        {
         "name": "Country_Norway",
         "rawType": "bool",
         "type": "boolean"
        },
        {
         "name": "Country_Russia",
         "rawType": "bool",
         "type": "boolean"
        },
        {
         "name": "Country_Saudi Arabia",
         "rawType": "bool",
         "type": "boolean"
        },
        {
         "name": "Country_South Africa",
         "rawType": "bool",
         "type": "boolean"
        },
        {
         "name": "Country_South Korea",
         "rawType": "bool",
         "type": "boolean"
        },
        {
         "name": "Country_Spain",
         "rawType": "bool",
         "type": "boolean"
        },
        {
         "name": "Country_Sweden",
         "rawType": "bool",
         "type": "boolean"
        },
        {
         "name": "Country_UK",
         "rawType": "bool",
         "type": "boolean"
        },
        {
         "name": "Country_USA",
         "rawType": "bool",
         "type": "boolean"
        },
        {
         "name": "Employment Status_Retired",
         "rawType": "bool",
         "type": "boolean"
        },
        {
         "name": "Employment Status_Unemployed",
         "rawType": "bool",
         "type": "boolean"
        },
        {
         "name": "Marital Status_Single",
         "rawType": "bool",
         "type": "boolean"
        },
        {
         "name": "Marital Status_Widowed",
         "rawType": "bool",
         "type": "boolean"
        }
       ],
       "ref": "8473897a-ac07-4ce1-959f-6a34aba9a992",
       "rows": [
        [
         "0",
         "90",
         "1",
         "1",
         "33.0",
         "1",
         "0",
         "1",
         "0",
         "0",
         "0",
         "0",
         "90",
         "0",
         "0",
         "2",
         "2",
         "0",
         "0",
         "1",
         "2",
         "1",
         "0",
         "False",
         "False",
         "False",
         "False",
         "False",
         "False",
         "False",
         "False",
         "False",
         "False",
         "False",
         "False",
         "False",
         "False",
         "False",
         "True",
         "False",
         "False",
         "False",
         "True",
         "False",
         "True",
         "False"
        ],
        [
         "1",
         "72",
         "1",
         "7",
         "29.9",
         "1",
         "1",
         "0",
         "0",
         "0",
         "0",
         "0",
         "65",
         "0",
         "2",
         "2",
         "1",
         "0",
         "2",
         "0",
         "2",
         "1",
         "0",
         "False",
         "False",
         "False",
         "False",
         "False",
         "False",
         "False",
         "False",
         "False",
         "False",
         "False",
         "False",
         "False",
         "False",
         "False",
         "False",
         "False",
         "False",
         "False",
         "False",
         "True",
         "False",
         "True"
        ],
        [
         "2",
         "86",
         "0",
         "19",
         "22.9",
         "2",
         "2",
         "1",
         "0",
         "1",
         "0",
         "0",
         "43",
         "2",
         "2",
         "1",
         "1",
         "0",
         "0",
         "1",
         "2",
         "0",
         "0",
         "False",
         "False",
         "False",
         "False",
         "False",
         "False",
         "False",
         "False",
         "False",
         "False",
         "False",
         "False",
         "False",
         "True",
         "False",
         "False",
         "False",
         "False",
         "False",
         "False",
         "False",
         "True",
         "False"
        ],
        [
         "3",
         "53",
         "1",
         "17",
         "31.2",
         "0",
         "0",
         "2",
         "1",
         "0",
         "0",
         "0",
         "81",
         "1",
         "1",
         "2",
         "1",
         "0",
         "2",
         "1",
         "0",
         "0",
         "0",
         "False",
         "False",
         "False",
         "True",
         "False",
         "False",
         "False",
         "False",
         "False",
         "False",
         "False",
         "False",
         "False",
         "False",
         "False",
         "False",
         "False",
         "False",
         "False",
         "True",
         "False",
         "True",
         "False"
        ],
        [
         "4",
         "58",
         "0",
         "3",
         "30.0",
         "2",
         "1",
         "0",
         "1",
         "0",
         "0",
         "0",
         "49",
         "2",
         "0",
         "0",
         "2",
         "0",
         "0",
         "1",
         "2",
         "0",
         "0",
         "False",
         "False",
         "False",
         "False",
         "False",
         "False",
         "False",
         "False",
         "False",
         "False",
         "False",
         "False",
         "False",
         "False",
         "False",
         "False",
         "True",
         "False",
         "False",
         "False",
         "False",
         "False",
         "False"
        ]
       ],
       "shape": {
        "columns": 45,
        "rows": 5
       }
      },
      "text/html": [
       "<div>\n",
       "<style scoped>\n",
       "    .dataframe tbody tr th:only-of-type {\n",
       "        vertical-align: middle;\n",
       "    }\n",
       "\n",
       "    .dataframe tbody tr th {\n",
       "        vertical-align: top;\n",
       "    }\n",
       "\n",
       "    .dataframe thead th {\n",
       "        text-align: right;\n",
       "    }\n",
       "</style>\n",
       "<table border=\"1\" class=\"dataframe\">\n",
       "  <thead>\n",
       "    <tr style=\"text-align: right;\">\n",
       "      <th></th>\n",
       "      <th>Age</th>\n",
       "      <th>Gender</th>\n",
       "      <th>Education Level</th>\n",
       "      <th>BMI</th>\n",
       "      <th>Physical Activity Level</th>\n",
       "      <th>Smoking Status</th>\n",
       "      <th>Alcohol Consumption</th>\n",
       "      <th>Diabetes</th>\n",
       "      <th>Hypertension</th>\n",
       "      <th>Cholesterol Level</th>\n",
       "      <th>...</th>\n",
       "      <th>Country_South Africa</th>\n",
       "      <th>Country_South Korea</th>\n",
       "      <th>Country_Spain</th>\n",
       "      <th>Country_Sweden</th>\n",
       "      <th>Country_UK</th>\n",
       "      <th>Country_USA</th>\n",
       "      <th>Employment Status_Retired</th>\n",
       "      <th>Employment Status_Unemployed</th>\n",
       "      <th>Marital Status_Single</th>\n",
       "      <th>Marital Status_Widowed</th>\n",
       "    </tr>\n",
       "  </thead>\n",
       "  <tbody>\n",
       "    <tr>\n",
       "      <th>0</th>\n",
       "      <td>90</td>\n",
       "      <td>1</td>\n",
       "      <td>1</td>\n",
       "      <td>33.0</td>\n",
       "      <td>1</td>\n",
       "      <td>0</td>\n",
       "      <td>1</td>\n",
       "      <td>0</td>\n",
       "      <td>0</td>\n",
       "      <td>0</td>\n",
       "      <td>...</td>\n",
       "      <td>False</td>\n",
       "      <td>False</td>\n",
       "      <td>True</td>\n",
       "      <td>False</td>\n",
       "      <td>False</td>\n",
       "      <td>False</td>\n",
       "      <td>True</td>\n",
       "      <td>False</td>\n",
       "      <td>True</td>\n",
       "      <td>False</td>\n",
       "    </tr>\n",
       "    <tr>\n",
       "      <th>1</th>\n",
       "      <td>72</td>\n",
       "      <td>1</td>\n",
       "      <td>7</td>\n",
       "      <td>29.9</td>\n",
       "      <td>1</td>\n",
       "      <td>1</td>\n",
       "      <td>0</td>\n",
       "      <td>0</td>\n",
       "      <td>0</td>\n",
       "      <td>0</td>\n",
       "      <td>...</td>\n",
       "      <td>False</td>\n",
       "      <td>False</td>\n",
       "      <td>False</td>\n",
       "      <td>False</td>\n",
       "      <td>False</td>\n",
       "      <td>False</td>\n",
       "      <td>False</td>\n",
       "      <td>True</td>\n",
       "      <td>False</td>\n",
       "      <td>True</td>\n",
       "    </tr>\n",
       "    <tr>\n",
       "      <th>2</th>\n",
       "      <td>86</td>\n",
       "      <td>0</td>\n",
       "      <td>19</td>\n",
       "      <td>22.9</td>\n",
       "      <td>2</td>\n",
       "      <td>2</td>\n",
       "      <td>1</td>\n",
       "      <td>0</td>\n",
       "      <td>1</td>\n",
       "      <td>0</td>\n",
       "      <td>...</td>\n",
       "      <td>True</td>\n",
       "      <td>False</td>\n",
       "      <td>False</td>\n",
       "      <td>False</td>\n",
       "      <td>False</td>\n",
       "      <td>False</td>\n",
       "      <td>False</td>\n",
       "      <td>False</td>\n",
       "      <td>True</td>\n",
       "      <td>False</td>\n",
       "    </tr>\n",
       "    <tr>\n",
       "      <th>3</th>\n",
       "      <td>53</td>\n",
       "      <td>1</td>\n",
       "      <td>17</td>\n",
       "      <td>31.2</td>\n",
       "      <td>0</td>\n",
       "      <td>0</td>\n",
       "      <td>2</td>\n",
       "      <td>1</td>\n",
       "      <td>0</td>\n",
       "      <td>0</td>\n",
       "      <td>...</td>\n",
       "      <td>False</td>\n",
       "      <td>False</td>\n",
       "      <td>False</td>\n",
       "      <td>False</td>\n",
       "      <td>False</td>\n",
       "      <td>False</td>\n",
       "      <td>True</td>\n",
       "      <td>False</td>\n",
       "      <td>True</td>\n",
       "      <td>False</td>\n",
       "    </tr>\n",
       "    <tr>\n",
       "      <th>4</th>\n",
       "      <td>58</td>\n",
       "      <td>0</td>\n",
       "      <td>3</td>\n",
       "      <td>30.0</td>\n",
       "      <td>2</td>\n",
       "      <td>1</td>\n",
       "      <td>0</td>\n",
       "      <td>1</td>\n",
       "      <td>0</td>\n",
       "      <td>0</td>\n",
       "      <td>...</td>\n",
       "      <td>False</td>\n",
       "      <td>False</td>\n",
       "      <td>False</td>\n",
       "      <td>True</td>\n",
       "      <td>False</td>\n",
       "      <td>False</td>\n",
       "      <td>False</td>\n",
       "      <td>False</td>\n",
       "      <td>False</td>\n",
       "      <td>False</td>\n",
       "    </tr>\n",
       "  </tbody>\n",
       "</table>\n",
       "<p>5 rows × 45 columns</p>\n",
       "</div>"
      ],
      "text/plain": [
       "   Age  Gender  Education Level   BMI  Physical Activity Level  \\\n",
       "0   90       1                1  33.0                        1   \n",
       "1   72       1                7  29.9                        1   \n",
       "2   86       0               19  22.9                        2   \n",
       "3   53       1               17  31.2                        0   \n",
       "4   58       0                3  30.0                        2   \n",
       "\n",
       "   Smoking Status  Alcohol Consumption  Diabetes  Hypertension  \\\n",
       "0               0                    1         0             0   \n",
       "1               1                    0         0             0   \n",
       "2               2                    1         0             1   \n",
       "3               0                    2         1             0   \n",
       "4               1                    0         1             0   \n",
       "\n",
       "   Cholesterol Level  ...  Country_South Africa  Country_South Korea  \\\n",
       "0                  0  ...                 False                False   \n",
       "1                  0  ...                 False                False   \n",
       "2                  0  ...                  True                False   \n",
       "3                  0  ...                 False                False   \n",
       "4                  0  ...                 False                False   \n",
       "\n",
       "   Country_Spain  Country_Sweden  Country_UK  Country_USA  \\\n",
       "0           True           False       False        False   \n",
       "1          False           False       False        False   \n",
       "2          False           False       False        False   \n",
       "3          False           False       False        False   \n",
       "4          False            True       False        False   \n",
       "\n",
       "   Employment Status_Retired  Employment Status_Unemployed  \\\n",
       "0                       True                         False   \n",
       "1                      False                          True   \n",
       "2                      False                         False   \n",
       "3                       True                         False   \n",
       "4                      False                         False   \n",
       "\n",
       "   Marital Status_Single  Marital Status_Widowed  \n",
       "0                   True                   False  \n",
       "1                  False                    True  \n",
       "2                   True                   False  \n",
       "3                   True                   False  \n",
       "4                  False                   False  \n",
       "\n",
       "[5 rows x 45 columns]"
      ]
     },
     "execution_count": 11,
     "metadata": {},
     "output_type": "execute_result"
    }
   ],
   "source": [
    "# Check the shape of the encoded data\n",
    "print(f\"Shape after encoding: {data_fe.shape}\")\n",
    "data_fe.head()"
   ]
  },
  {
   "cell_type": "markdown",
   "id": "576dddaf",
   "metadata": {},
   "source": [
    "### 2.2 Standardization of Numerical Features"
   ]
  },
  {
   "cell_type": "code",
   "execution_count": 12,
   "id": "4f76cddb",
   "metadata": {},
   "outputs": [
    {
     "name": "stdout",
     "output_type": "stream",
     "text": [
      "Standardized numerical features\n"
     ]
    },
    {
     "data": {
      "application/vnd.microsoft.datawrangler.viewer.v0+json": {
       "columns": [
        {
         "name": "index",
         "rawType": "int64",
         "type": "integer"
        },
        {
         "name": "Age",
         "rawType": "float64",
         "type": "float"
        },
        {
         "name": "Gender",
         "rawType": "int64",
         "type": "integer"
        },
        {
         "name": "Education Level",
         "rawType": "float64",
         "type": "float"
        },
        {
         "name": "BMI",
         "rawType": "float64",
         "type": "float"
        },
        {
         "name": "Physical Activity Level",
         "rawType": "int64",
         "type": "integer"
        },
        {
         "name": "Smoking Status",
         "rawType": "int64",
         "type": "integer"
        },
        {
         "name": "Alcohol Consumption",
         "rawType": "int64",
         "type": "integer"
        },
        {
         "name": "Diabetes",
         "rawType": "int64",
         "type": "integer"
        },
        {
         "name": "Hypertension",
         "rawType": "int64",
         "type": "integer"
        },
        {
         "name": "Cholesterol Level",
         "rawType": "int64",
         "type": "integer"
        },
        {
         "name": "Family History of Alzheimer’s",
         "rawType": "int64",
         "type": "integer"
        },
        {
         "name": "Cognitive Test Score",
         "rawType": "float64",
         "type": "float"
        },
        {
         "name": "Depression Level",
         "rawType": "int64",
         "type": "integer"
        },
        {
         "name": "Sleep Quality",
         "rawType": "int64",
         "type": "integer"
        },
        {
         "name": "Dietary Habits",
         "rawType": "int64",
         "type": "integer"
        },
        {
         "name": "Air Pollution Exposure",
         "rawType": "int64",
         "type": "integer"
        },
        {
         "name": "Genetic Risk Factor (APOE-ε4 allele)",
         "rawType": "int64",
         "type": "integer"
        },
        {
         "name": "Social Engagement Level",
         "rawType": "int64",
         "type": "integer"
        },
        {
         "name": "Income Level",
         "rawType": "int64",
         "type": "integer"
        },
        {
         "name": "Stress Levels",
         "rawType": "int64",
         "type": "integer"
        },
        {
         "name": "Urban vs Rural Living",
         "rawType": "int64",
         "type": "integer"
        },
        {
         "name": "Alzheimer’s Diagnosis",
         "rawType": "int64",
         "type": "integer"
        },
        {
         "name": "Country_Australia",
         "rawType": "bool",
         "type": "boolean"
        },
        {
         "name": "Country_Brazil",
         "rawType": "bool",
         "type": "boolean"
        },
        {
         "name": "Country_Canada",
         "rawType": "bool",
         "type": "boolean"
        },
        {
         "name": "Country_China",
         "rawType": "bool",
         "type": "boolean"
        },
        {
         "name": "Country_France",
         "rawType": "bool",
         "type": "boolean"
        },
        {
         "name": "Country_Germany",
         "rawType": "bool",
         "type": "boolean"
        },
        {
         "name": "Country_India",
         "rawType": "bool",
         "type": "boolean"
        },
        {
         "name": "Country_Italy",
         "rawType": "bool",
         "type": "boolean"
        },
        {
         "name": "Country_Japan",
         "rawType": "bool",
         "type": "boolean"
        },
        {
         "name": "Country_Mexico",
         "rawType": "bool",
         "type": "boolean"
        },
        {
         "name": "Country_Norway",
         "rawType": "bool",
         "type": "boolean"
        },
        {
         "name": "Country_Russia",
         "rawType": "bool",
         "type": "boolean"
        },
        {
         "name": "Country_Saudi Arabia",
         "rawType": "bool",
         "type": "boolean"
        },
        {
         "name": "Country_South Africa",
         "rawType": "bool",
         "type": "boolean"
        },
        {
         "name": "Country_South Korea",
         "rawType": "bool",
         "type": "boolean"
        },
        {
         "name": "Country_Spain",
         "rawType": "bool",
         "type": "boolean"
        },
        {
         "name": "Country_Sweden",
         "rawType": "bool",
         "type": "boolean"
        },
        {
         "name": "Country_UK",
         "rawType": "bool",
         "type": "boolean"
        },
        {
         "name": "Country_USA",
         "rawType": "bool",
         "type": "boolean"
        },
        {
         "name": "Employment Status_Retired",
         "rawType": "bool",
         "type": "boolean"
        },
        {
         "name": "Employment Status_Unemployed",
         "rawType": "bool",
         "type": "boolean"
        },
        {
         "name": "Marital Status_Single",
         "rawType": "bool",
         "type": "boolean"
        },
        {
         "name": "Marital Status_Widowed",
         "rawType": "bool",
         "type": "boolean"
        }
       ],
       "ref": "34222119-7baf-4467-b1dc-5c5516b5dc85",
       "rows": [
        [
         "0",
         "1.3893975059756483",
         "1",
         "-1.4742993647081886",
         "1.3053140252036137",
         "1",
         "0",
         "1",
         "0",
         "0",
         "0",
         "0",
         "1.2576598126418461",
         "0",
         "0",
         "2",
         "2",
         "0",
         "0",
         "1",
         "2",
         "1",
         "0",
         "False",
         "False",
         "False",
         "False",
         "False",
         "False",
         "False",
         "False",
         "False",
         "False",
         "False",
         "False",
         "False",
         "False",
         "False",
         "True",
         "False",
         "False",
         "False",
         "True",
         "False",
         "True",
         "False"
        ],
        [
         "1",
         "0.002719233226048042",
         "1",
         "-0.43208650676277216",
         "0.6546887570695209",
         "1",
         "1",
         "0",
         "0",
         "0",
         "0",
         "0",
         "0.01715659552172779",
         "0",
         "2",
         "2",
         "1",
         "0",
         "2",
         "0",
         "2",
         "1",
         "0",
         "False",
         "False",
         "False",
         "False",
         "False",
         "False",
         "False",
         "False",
         "False",
         "False",
         "False",
         "False",
         "False",
         "False",
         "False",
         "False",
         "False",
         "False",
         "False",
         "False",
         "True",
         "False",
         "True"
        ],
        [
         "2",
         "1.0812467786979594",
         "0",
         "1.6523392091280606",
         "-0.8144650742010106",
         "2",
         "2",
         "1",
         "0",
         "1",
         "0",
         "0",
         "-1.0744862355439764",
         "2",
         "2",
         "1",
         "1",
         "0",
         "0",
         "1",
         "2",
         "0",
         "0",
         "False",
         "False",
         "False",
         "False",
         "False",
         "False",
         "False",
         "False",
         "False",
         "False",
         "False",
         "False",
         "False",
         "True",
         "False",
         "False",
         "False",
         "False",
         "False",
         "False",
         "False",
         "True",
         "False"
        ],
        [
         "3",
         "-1.4609967213429744",
         "1",
         "1.3049349231462553",
         "0.9275316114483341",
         "0",
         "0",
         "2",
         "1",
         "0",
         "0",
         "0",
         "0.8110786544786035",
         "1",
         "1",
         "2",
         "1",
         "0",
         "2",
         "1",
         "0",
         "0",
         "0",
         "False",
         "False",
         "False",
         "True",
         "False",
         "False",
         "False",
         "False",
         "False",
         "False",
         "False",
         "False",
         "False",
         "False",
         "False",
         "False",
         "False",
         "False",
         "False",
         "True",
         "False",
         "True",
         "False"
        ],
        [
         "4",
         "-1.0758083122458633",
         "0",
         "-1.1268950787263832",
         "0.6756766689448145",
         "2",
         "1",
         "0",
         "1",
         "0",
         "0",
         "0",
         "-0.776765463435148",
         "2",
         "0",
         "0",
         "2",
         "0",
         "0",
         "1",
         "2",
         "0",
         "0",
         "False",
         "False",
         "False",
         "False",
         "False",
         "False",
         "False",
         "False",
         "False",
         "False",
         "False",
         "False",
         "False",
         "False",
         "False",
         "False",
         "True",
         "False",
         "False",
         "False",
         "False",
         "False",
         "False"
        ]
       ],
       "shape": {
        "columns": 45,
        "rows": 5
       }
      },
      "text/html": [
       "<div>\n",
       "<style scoped>\n",
       "    .dataframe tbody tr th:only-of-type {\n",
       "        vertical-align: middle;\n",
       "    }\n",
       "\n",
       "    .dataframe tbody tr th {\n",
       "        vertical-align: top;\n",
       "    }\n",
       "\n",
       "    .dataframe thead th {\n",
       "        text-align: right;\n",
       "    }\n",
       "</style>\n",
       "<table border=\"1\" class=\"dataframe\">\n",
       "  <thead>\n",
       "    <tr style=\"text-align: right;\">\n",
       "      <th></th>\n",
       "      <th>Age</th>\n",
       "      <th>Gender</th>\n",
       "      <th>Education Level</th>\n",
       "      <th>BMI</th>\n",
       "      <th>Physical Activity Level</th>\n",
       "      <th>Smoking Status</th>\n",
       "      <th>Alcohol Consumption</th>\n",
       "      <th>Diabetes</th>\n",
       "      <th>Hypertension</th>\n",
       "      <th>Cholesterol Level</th>\n",
       "      <th>...</th>\n",
       "      <th>Country_South Africa</th>\n",
       "      <th>Country_South Korea</th>\n",
       "      <th>Country_Spain</th>\n",
       "      <th>Country_Sweden</th>\n",
       "      <th>Country_UK</th>\n",
       "      <th>Country_USA</th>\n",
       "      <th>Employment Status_Retired</th>\n",
       "      <th>Employment Status_Unemployed</th>\n",
       "      <th>Marital Status_Single</th>\n",
       "      <th>Marital Status_Widowed</th>\n",
       "    </tr>\n",
       "  </thead>\n",
       "  <tbody>\n",
       "    <tr>\n",
       "      <th>0</th>\n",
       "      <td>1.389398</td>\n",
       "      <td>1</td>\n",
       "      <td>-1.474299</td>\n",
       "      <td>1.305314</td>\n",
       "      <td>1</td>\n",
       "      <td>0</td>\n",
       "      <td>1</td>\n",
       "      <td>0</td>\n",
       "      <td>0</td>\n",
       "      <td>0</td>\n",
       "      <td>...</td>\n",
       "      <td>False</td>\n",
       "      <td>False</td>\n",
       "      <td>True</td>\n",
       "      <td>False</td>\n",
       "      <td>False</td>\n",
       "      <td>False</td>\n",
       "      <td>True</td>\n",
       "      <td>False</td>\n",
       "      <td>True</td>\n",
       "      <td>False</td>\n",
       "    </tr>\n",
       "    <tr>\n",
       "      <th>1</th>\n",
       "      <td>0.002719</td>\n",
       "      <td>1</td>\n",
       "      <td>-0.432087</td>\n",
       "      <td>0.654689</td>\n",
       "      <td>1</td>\n",
       "      <td>1</td>\n",
       "      <td>0</td>\n",
       "      <td>0</td>\n",
       "      <td>0</td>\n",
       "      <td>0</td>\n",
       "      <td>...</td>\n",
       "      <td>False</td>\n",
       "      <td>False</td>\n",
       "      <td>False</td>\n",
       "      <td>False</td>\n",
       "      <td>False</td>\n",
       "      <td>False</td>\n",
       "      <td>False</td>\n",
       "      <td>True</td>\n",
       "      <td>False</td>\n",
       "      <td>True</td>\n",
       "    </tr>\n",
       "    <tr>\n",
       "      <th>2</th>\n",
       "      <td>1.081247</td>\n",
       "      <td>0</td>\n",
       "      <td>1.652339</td>\n",
       "      <td>-0.814465</td>\n",
       "      <td>2</td>\n",
       "      <td>2</td>\n",
       "      <td>1</td>\n",
       "      <td>0</td>\n",
       "      <td>1</td>\n",
       "      <td>0</td>\n",
       "      <td>...</td>\n",
       "      <td>True</td>\n",
       "      <td>False</td>\n",
       "      <td>False</td>\n",
       "      <td>False</td>\n",
       "      <td>False</td>\n",
       "      <td>False</td>\n",
       "      <td>False</td>\n",
       "      <td>False</td>\n",
       "      <td>True</td>\n",
       "      <td>False</td>\n",
       "    </tr>\n",
       "    <tr>\n",
       "      <th>3</th>\n",
       "      <td>-1.460997</td>\n",
       "      <td>1</td>\n",
       "      <td>1.304935</td>\n",
       "      <td>0.927532</td>\n",
       "      <td>0</td>\n",
       "      <td>0</td>\n",
       "      <td>2</td>\n",
       "      <td>1</td>\n",
       "      <td>0</td>\n",
       "      <td>0</td>\n",
       "      <td>...</td>\n",
       "      <td>False</td>\n",
       "      <td>False</td>\n",
       "      <td>False</td>\n",
       "      <td>False</td>\n",
       "      <td>False</td>\n",
       "      <td>False</td>\n",
       "      <td>True</td>\n",
       "      <td>False</td>\n",
       "      <td>True</td>\n",
       "      <td>False</td>\n",
       "    </tr>\n",
       "    <tr>\n",
       "      <th>4</th>\n",
       "      <td>-1.075808</td>\n",
       "      <td>0</td>\n",
       "      <td>-1.126895</td>\n",
       "      <td>0.675677</td>\n",
       "      <td>2</td>\n",
       "      <td>1</td>\n",
       "      <td>0</td>\n",
       "      <td>1</td>\n",
       "      <td>0</td>\n",
       "      <td>0</td>\n",
       "      <td>...</td>\n",
       "      <td>False</td>\n",
       "      <td>False</td>\n",
       "      <td>False</td>\n",
       "      <td>True</td>\n",
       "      <td>False</td>\n",
       "      <td>False</td>\n",
       "      <td>False</td>\n",
       "      <td>False</td>\n",
       "      <td>False</td>\n",
       "      <td>False</td>\n",
       "    </tr>\n",
       "  </tbody>\n",
       "</table>\n",
       "<p>5 rows × 45 columns</p>\n",
       "</div>"
      ],
      "text/plain": [
       "        Age  Gender  Education Level       BMI  Physical Activity Level  \\\n",
       "0  1.389398       1        -1.474299  1.305314                        1   \n",
       "1  0.002719       1        -0.432087  0.654689                        1   \n",
       "2  1.081247       0         1.652339 -0.814465                        2   \n",
       "3 -1.460997       1         1.304935  0.927532                        0   \n",
       "4 -1.075808       0        -1.126895  0.675677                        2   \n",
       "\n",
       "   Smoking Status  Alcohol Consumption  Diabetes  Hypertension  \\\n",
       "0               0                    1         0             0   \n",
       "1               1                    0         0             0   \n",
       "2               2                    1         0             1   \n",
       "3               0                    2         1             0   \n",
       "4               1                    0         1             0   \n",
       "\n",
       "   Cholesterol Level  ...  Country_South Africa  Country_South Korea  \\\n",
       "0                  0  ...                 False                False   \n",
       "1                  0  ...                 False                False   \n",
       "2                  0  ...                  True                False   \n",
       "3                  0  ...                 False                False   \n",
       "4                  0  ...                 False                False   \n",
       "\n",
       "   Country_Spain  Country_Sweden  Country_UK  Country_USA  \\\n",
       "0           True           False       False        False   \n",
       "1          False           False       False        False   \n",
       "2          False           False       False        False   \n",
       "3          False           False       False        False   \n",
       "4          False            True       False        False   \n",
       "\n",
       "   Employment Status_Retired  Employment Status_Unemployed  \\\n",
       "0                       True                         False   \n",
       "1                      False                          True   \n",
       "2                      False                         False   \n",
       "3                       True                         False   \n",
       "4                      False                         False   \n",
       "\n",
       "   Marital Status_Single  Marital Status_Widowed  \n",
       "0                   True                   False  \n",
       "1                  False                    True  \n",
       "2                   True                   False  \n",
       "3                   True                   False  \n",
       "4                  False                   False  \n",
       "\n",
       "[5 rows x 45 columns]"
      ]
     },
     "execution_count": 12,
     "metadata": {},
     "output_type": "execute_result"
    }
   ],
   "source": [
    "# Standardize numerical features\n",
    "scaler = StandardScaler()\n",
    "data_fe[numerical_features] = scaler.fit_transform(data_fe[numerical_features])\n",
    "print(\"Standardized numerical features\")\n",
    "data_fe.head()"
   ]
  },
  {
   "cell_type": "markdown",
   "id": "8d2d7079",
   "metadata": {},
   "source": [
    "### 2.3 Feature Interaction and Creation"
   ]
  },
  {
   "cell_type": "code",
   "execution_count": 13,
   "id": "1b3db1ad",
   "metadata": {},
   "outputs": [
    {
     "name": "stdout",
     "output_type": "stream",
     "text": [
      "Created interaction term: Age_x_APOE\n",
      "Created interaction term: CognitiveScore_x_Age\n",
      "Created interaction term: PhysicalActivity_x_Age\n",
      "Created interaction term: FamilyHistory_x_APOE\n",
      "Created composite feature: Health_Index\n",
      "Created composite feature: Risk_Factor_Count\n"
     ]
    }
   ],
   "source": [
    "# Create interaction terms\n",
    "# Age x Genetic Risk Factor interaction (important for Alzheimer's risk)\n",
    "data_fe['Age_x_APOE'] = data_fe['Age'] * data_fe['Genetic Risk Factor (APOE-ε4 allele)']\n",
    "print(\"Created interaction term: Age_x_APOE\")\n",
    "\n",
    "# Cognitive Score x Age interaction\n",
    "data_fe['CognitiveScore_x_Age'] = data_fe['Cognitive Test Score'] * data_fe['Age']\n",
    "print(\"Created interaction term: CognitiveScore_x_Age\")\n",
    "\n",
    "# Physical Activity x Age interaction\n",
    "data_fe['PhysicalActivity_x_Age'] = data_fe['Physical Activity Level'] * data_fe['Age']\n",
    "print(\"Created interaction term: PhysicalActivity_x_Age\")\n",
    "\n",
    "# Family History x Genetic Risk interaction\n",
    "data_fe['FamilyHistory_x_APOE'] = data_fe['Family History of Alzheimer’s'] * data_fe['Genetic Risk Factor (APOE-ε4 allele)']\n",
    "print(\"Created interaction term: FamilyHistory_x_APOE\")\n",
    "\n",
    "# Overall Health Index (combines several health indicators)\n",
    "data_fe['Health_Index'] = (data_fe['Physical Activity Level'] + \n",
    "                          data_fe['Sleep Quality'] + \n",
    "                          data_fe['Dietary Habits'] - \n",
    "                          data_fe['Stress Levels'])\n",
    "print(\"Created composite feature: Health_Index\")\n",
    "\n",
    "# Risk Factor Count (counts presence of known risk factors)\n",
    "data_fe['Risk_Factor_Count'] = (data_fe['Diabetes'] + \n",
    "                               data_fe['Hypertension'] + \n",
    "                               data_fe['Cholesterol Level'] + \n",
    "                               data_fe['Family History of Alzheimer’s'] +\n",
    "                               data_fe['Genetic Risk Factor (APOE-ε4 allele)'])\n",
    "print(\"Created composite feature: Risk_Factor_Count\")"
   ]
  },
  {
   "cell_type": "code",
   "execution_count": 14,
   "id": "5676ac60",
   "metadata": {},
   "outputs": [
    {
     "name": "stdout",
     "output_type": "stream",
     "text": [
      "Dataset shape after feature creation: (74283, 51)\n"
     ]
    },
    {
     "data": {
      "application/vnd.microsoft.datawrangler.viewer.v0+json": {
       "columns": [
        {
         "name": "index",
         "rawType": "int64",
         "type": "integer"
        },
        {
         "name": "Age",
         "rawType": "float64",
         "type": "float"
        },
        {
         "name": "Gender",
         "rawType": "int64",
         "type": "integer"
        },
        {
         "name": "Education Level",
         "rawType": "float64",
         "type": "float"
        },
        {
         "name": "BMI",
         "rawType": "float64",
         "type": "float"
        },
        {
         "name": "Physical Activity Level",
         "rawType": "int64",
         "type": "integer"
        },
        {
         "name": "Smoking Status",
         "rawType": "int64",
         "type": "integer"
        },
        {
         "name": "Alcohol Consumption",
         "rawType": "int64",
         "type": "integer"
        },
        {
         "name": "Diabetes",
         "rawType": "int64",
         "type": "integer"
        },
        {
         "name": "Hypertension",
         "rawType": "int64",
         "type": "integer"
        },
        {
         "name": "Cholesterol Level",
         "rawType": "int64",
         "type": "integer"
        },
        {
         "name": "Family History of Alzheimer’s",
         "rawType": "int64",
         "type": "integer"
        },
        {
         "name": "Cognitive Test Score",
         "rawType": "float64",
         "type": "float"
        },
        {
         "name": "Depression Level",
         "rawType": "int64",
         "type": "integer"
        },
        {
         "name": "Sleep Quality",
         "rawType": "int64",
         "type": "integer"
        },
        {
         "name": "Dietary Habits",
         "rawType": "int64",
         "type": "integer"
        },
        {
         "name": "Air Pollution Exposure",
         "rawType": "int64",
         "type": "integer"
        },
        {
         "name": "Genetic Risk Factor (APOE-ε4 allele)",
         "rawType": "int64",
         "type": "integer"
        },
        {
         "name": "Social Engagement Level",
         "rawType": "int64",
         "type": "integer"
        },
        {
         "name": "Income Level",
         "rawType": "int64",
         "type": "integer"
        },
        {
         "name": "Stress Levels",
         "rawType": "int64",
         "type": "integer"
        },
        {
         "name": "Urban vs Rural Living",
         "rawType": "int64",
         "type": "integer"
        },
        {
         "name": "Alzheimer’s Diagnosis",
         "rawType": "int64",
         "type": "integer"
        },
        {
         "name": "Country_Australia",
         "rawType": "bool",
         "type": "boolean"
        },
        {
         "name": "Country_Brazil",
         "rawType": "bool",
         "type": "boolean"
        },
        {
         "name": "Country_Canada",
         "rawType": "bool",
         "type": "boolean"
        },
        {
         "name": "Country_China",
         "rawType": "bool",
         "type": "boolean"
        },
        {
         "name": "Country_France",
         "rawType": "bool",
         "type": "boolean"
        },
        {
         "name": "Country_Germany",
         "rawType": "bool",
         "type": "boolean"
        },
        {
         "name": "Country_India",
         "rawType": "bool",
         "type": "boolean"
        },
        {
         "name": "Country_Italy",
         "rawType": "bool",
         "type": "boolean"
        },
        {
         "name": "Country_Japan",
         "rawType": "bool",
         "type": "boolean"
        },
        {
         "name": "Country_Mexico",
         "rawType": "bool",
         "type": "boolean"
        },
        {
         "name": "Country_Norway",
         "rawType": "bool",
         "type": "boolean"
        },
        {
         "name": "Country_Russia",
         "rawType": "bool",
         "type": "boolean"
        },
        {
         "name": "Country_Saudi Arabia",
         "rawType": "bool",
         "type": "boolean"
        },
        {
         "name": "Country_South Africa",
         "rawType": "bool",
         "type": "boolean"
        },
        {
         "name": "Country_South Korea",
         "rawType": "bool",
         "type": "boolean"
        },
        {
         "name": "Country_Spain",
         "rawType": "bool",
         "type": "boolean"
        },
        {
         "name": "Country_Sweden",
         "rawType": "bool",
         "type": "boolean"
        },
        {
         "name": "Country_UK",
         "rawType": "bool",
         "type": "boolean"
        },
        {
         "name": "Country_USA",
         "rawType": "bool",
         "type": "boolean"
        },
        {
         "name": "Employment Status_Retired",
         "rawType": "bool",
         "type": "boolean"
        },
        {
         "name": "Employment Status_Unemployed",
         "rawType": "bool",
         "type": "boolean"
        },
        {
         "name": "Marital Status_Single",
         "rawType": "bool",
         "type": "boolean"
        },
        {
         "name": "Marital Status_Widowed",
         "rawType": "bool",
         "type": "boolean"
        },
        {
         "name": "Age_x_APOE",
         "rawType": "float64",
         "type": "float"
        },
        {
         "name": "CognitiveScore_x_Age",
         "rawType": "float64",
         "type": "float"
        },
        {
         "name": "PhysicalActivity_x_Age",
         "rawType": "float64",
         "type": "float"
        },
        {
         "name": "FamilyHistory_x_APOE",
         "rawType": "int64",
         "type": "integer"
        },
        {
         "name": "Health_Index",
         "rawType": "int64",
         "type": "integer"
        },
        {
         "name": "Risk_Factor_Count",
         "rawType": "int64",
         "type": "integer"
        }
       ],
       "ref": "099b870d-b7af-40ef-ab00-41edbcc7aa29",
       "rows": [
        [
         "0",
         "1.3893975059756483",
         "1",
         "-1.4742993647081886",
         "1.3053140252036137",
         "1",
         "0",
         "1",
         "0",
         "0",
         "0",
         "0",
         "1.2576598126418461",
         "0",
         "0",
         "2",
         "2",
         "0",
         "0",
         "1",
         "2",
         "1",
         "0",
         "False",
         "False",
         "False",
         "False",
         "False",
         "False",
         "False",
         "False",
         "False",
         "False",
         "False",
         "False",
         "False",
         "False",
         "False",
         "True",
         "False",
         "False",
         "False",
         "True",
         "False",
         "True",
         "False",
         "0.0",
         "1.7473894070503821",
         "1.3893975059756483",
         "0",
         "1",
         "0"
        ],
        [
         "1",
         "0.002719233226048042",
         "1",
         "-0.43208650676277216",
         "0.6546887570695209",
         "1",
         "1",
         "0",
         "0",
         "0",
         "0",
         "0",
         "0.01715659552172779",
         "0",
         "2",
         "2",
         "1",
         "0",
         "2",
         "0",
         "2",
         "1",
         "0",
         "False",
         "False",
         "False",
         "False",
         "False",
         "False",
         "False",
         "False",
         "False",
         "False",
         "False",
         "False",
         "False",
         "False",
         "False",
         "False",
         "False",
         "False",
         "False",
         "False",
         "True",
         "False",
         "True",
         "0.0",
         "4.665278458854925e-05",
         "0.002719233226048042",
         "0",
         "3",
         "0"
        ],
        [
         "2",
         "1.0812467786979594",
         "0",
         "1.6523392091280606",
         "-0.8144650742010106",
         "2",
         "2",
         "1",
         "0",
         "1",
         "0",
         "0",
         "-1.0744862355439764",
         "2",
         "2",
         "1",
         "1",
         "0",
         "0",
         "1",
         "2",
         "0",
         "0",
         "False",
         "False",
         "False",
         "False",
         "False",
         "False",
         "False",
         "False",
         "False",
         "False",
         "False",
         "False",
         "False",
         "True",
         "False",
         "False",
         "False",
         "False",
         "False",
         "False",
         "False",
         "True",
         "False",
         "0.0",
         "-1.1617847809372213",
         "2.1624935573959188",
         "0",
         "3",
         "1"
        ],
        [
         "3",
         "-1.4609967213429744",
         "1",
         "1.3049349231462553",
         "0.9275316114483341",
         "0",
         "0",
         "2",
         "1",
         "0",
         "0",
         "0",
         "0.8110786544786035",
         "1",
         "1",
         "2",
         "1",
         "0",
         "2",
         "1",
         "0",
         "0",
         "0",
         "False",
         "False",
         "False",
         "True",
         "False",
         "False",
         "False",
         "False",
         "False",
         "False",
         "False",
         "False",
         "False",
         "False",
         "False",
         "False",
         "False",
         "False",
         "False",
         "True",
         "False",
         "True",
         "False",
         "-0.0",
         "-1.184983254944511",
         "-0.0",
         "0",
         "3",
         "1"
        ],
        [
         "4",
         "-1.0758083122458633",
         "0",
         "-1.1268950787263832",
         "0.6756766689448145",
         "2",
         "1",
         "0",
         "1",
         "0",
         "0",
         "0",
         "-0.776765463435148",
         "2",
         "0",
         "0",
         "2",
         "0",
         "0",
         "1",
         "2",
         "0",
         "0",
         "False",
         "False",
         "False",
         "False",
         "False",
         "False",
         "False",
         "False",
         "False",
         "False",
         "False",
         "False",
         "False",
         "False",
         "False",
         "False",
         "True",
         "False",
         "False",
         "False",
         "False",
         "False",
         "False",
         "-0.0",
         "0.8356507422290423",
         "-2.1516166244917265",
         "0",
         "0",
         "1"
        ]
       ],
       "shape": {
        "columns": 51,
        "rows": 5
       }
      },
      "text/html": [
       "<div>\n",
       "<style scoped>\n",
       "    .dataframe tbody tr th:only-of-type {\n",
       "        vertical-align: middle;\n",
       "    }\n",
       "\n",
       "    .dataframe tbody tr th {\n",
       "        vertical-align: top;\n",
       "    }\n",
       "\n",
       "    .dataframe thead th {\n",
       "        text-align: right;\n",
       "    }\n",
       "</style>\n",
       "<table border=\"1\" class=\"dataframe\">\n",
       "  <thead>\n",
       "    <tr style=\"text-align: right;\">\n",
       "      <th></th>\n",
       "      <th>Age</th>\n",
       "      <th>Gender</th>\n",
       "      <th>Education Level</th>\n",
       "      <th>BMI</th>\n",
       "      <th>Physical Activity Level</th>\n",
       "      <th>Smoking Status</th>\n",
       "      <th>Alcohol Consumption</th>\n",
       "      <th>Diabetes</th>\n",
       "      <th>Hypertension</th>\n",
       "      <th>Cholesterol Level</th>\n",
       "      <th>...</th>\n",
       "      <th>Employment Status_Retired</th>\n",
       "      <th>Employment Status_Unemployed</th>\n",
       "      <th>Marital Status_Single</th>\n",
       "      <th>Marital Status_Widowed</th>\n",
       "      <th>Age_x_APOE</th>\n",
       "      <th>CognitiveScore_x_Age</th>\n",
       "      <th>PhysicalActivity_x_Age</th>\n",
       "      <th>FamilyHistory_x_APOE</th>\n",
       "      <th>Health_Index</th>\n",
       "      <th>Risk_Factor_Count</th>\n",
       "    </tr>\n",
       "  </thead>\n",
       "  <tbody>\n",
       "    <tr>\n",
       "      <th>0</th>\n",
       "      <td>1.389398</td>\n",
       "      <td>1</td>\n",
       "      <td>-1.474299</td>\n",
       "      <td>1.305314</td>\n",
       "      <td>1</td>\n",
       "      <td>0</td>\n",
       "      <td>1</td>\n",
       "      <td>0</td>\n",
       "      <td>0</td>\n",
       "      <td>0</td>\n",
       "      <td>...</td>\n",
       "      <td>True</td>\n",
       "      <td>False</td>\n",
       "      <td>True</td>\n",
       "      <td>False</td>\n",
       "      <td>0.0</td>\n",
       "      <td>1.747389</td>\n",
       "      <td>1.389398</td>\n",
       "      <td>0</td>\n",
       "      <td>1</td>\n",
       "      <td>0</td>\n",
       "    </tr>\n",
       "    <tr>\n",
       "      <th>1</th>\n",
       "      <td>0.002719</td>\n",
       "      <td>1</td>\n",
       "      <td>-0.432087</td>\n",
       "      <td>0.654689</td>\n",
       "      <td>1</td>\n",
       "      <td>1</td>\n",
       "      <td>0</td>\n",
       "      <td>0</td>\n",
       "      <td>0</td>\n",
       "      <td>0</td>\n",
       "      <td>...</td>\n",
       "      <td>False</td>\n",
       "      <td>True</td>\n",
       "      <td>False</td>\n",
       "      <td>True</td>\n",
       "      <td>0.0</td>\n",
       "      <td>0.000047</td>\n",
       "      <td>0.002719</td>\n",
       "      <td>0</td>\n",
       "      <td>3</td>\n",
       "      <td>0</td>\n",
       "    </tr>\n",
       "    <tr>\n",
       "      <th>2</th>\n",
       "      <td>1.081247</td>\n",
       "      <td>0</td>\n",
       "      <td>1.652339</td>\n",
       "      <td>-0.814465</td>\n",
       "      <td>2</td>\n",
       "      <td>2</td>\n",
       "      <td>1</td>\n",
       "      <td>0</td>\n",
       "      <td>1</td>\n",
       "      <td>0</td>\n",
       "      <td>...</td>\n",
       "      <td>False</td>\n",
       "      <td>False</td>\n",
       "      <td>True</td>\n",
       "      <td>False</td>\n",
       "      <td>0.0</td>\n",
       "      <td>-1.161785</td>\n",
       "      <td>2.162494</td>\n",
       "      <td>0</td>\n",
       "      <td>3</td>\n",
       "      <td>1</td>\n",
       "    </tr>\n",
       "    <tr>\n",
       "      <th>3</th>\n",
       "      <td>-1.460997</td>\n",
       "      <td>1</td>\n",
       "      <td>1.304935</td>\n",
       "      <td>0.927532</td>\n",
       "      <td>0</td>\n",
       "      <td>0</td>\n",
       "      <td>2</td>\n",
       "      <td>1</td>\n",
       "      <td>0</td>\n",
       "      <td>0</td>\n",
       "      <td>...</td>\n",
       "      <td>True</td>\n",
       "      <td>False</td>\n",
       "      <td>True</td>\n",
       "      <td>False</td>\n",
       "      <td>-0.0</td>\n",
       "      <td>-1.184983</td>\n",
       "      <td>-0.000000</td>\n",
       "      <td>0</td>\n",
       "      <td>3</td>\n",
       "      <td>1</td>\n",
       "    </tr>\n",
       "    <tr>\n",
       "      <th>4</th>\n",
       "      <td>-1.075808</td>\n",
       "      <td>0</td>\n",
       "      <td>-1.126895</td>\n",
       "      <td>0.675677</td>\n",
       "      <td>2</td>\n",
       "      <td>1</td>\n",
       "      <td>0</td>\n",
       "      <td>1</td>\n",
       "      <td>0</td>\n",
       "      <td>0</td>\n",
       "      <td>...</td>\n",
       "      <td>False</td>\n",
       "      <td>False</td>\n",
       "      <td>False</td>\n",
       "      <td>False</td>\n",
       "      <td>-0.0</td>\n",
       "      <td>0.835651</td>\n",
       "      <td>-2.151617</td>\n",
       "      <td>0</td>\n",
       "      <td>0</td>\n",
       "      <td>1</td>\n",
       "    </tr>\n",
       "  </tbody>\n",
       "</table>\n",
       "<p>5 rows × 51 columns</p>\n",
       "</div>"
      ],
      "text/plain": [
       "        Age  Gender  Education Level       BMI  Physical Activity Level  \\\n",
       "0  1.389398       1        -1.474299  1.305314                        1   \n",
       "1  0.002719       1        -0.432087  0.654689                        1   \n",
       "2  1.081247       0         1.652339 -0.814465                        2   \n",
       "3 -1.460997       1         1.304935  0.927532                        0   \n",
       "4 -1.075808       0        -1.126895  0.675677                        2   \n",
       "\n",
       "   Smoking Status  Alcohol Consumption  Diabetes  Hypertension  \\\n",
       "0               0                    1         0             0   \n",
       "1               1                    0         0             0   \n",
       "2               2                    1         0             1   \n",
       "3               0                    2         1             0   \n",
       "4               1                    0         1             0   \n",
       "\n",
       "   Cholesterol Level  ...  Employment Status_Retired  \\\n",
       "0                  0  ...                       True   \n",
       "1                  0  ...                      False   \n",
       "2                  0  ...                      False   \n",
       "3                  0  ...                       True   \n",
       "4                  0  ...                      False   \n",
       "\n",
       "   Employment Status_Unemployed  Marital Status_Single  \\\n",
       "0                         False                   True   \n",
       "1                          True                  False   \n",
       "2                         False                   True   \n",
       "3                         False                   True   \n",
       "4                         False                  False   \n",
       "\n",
       "   Marital Status_Widowed  Age_x_APOE  CognitiveScore_x_Age  \\\n",
       "0                   False         0.0              1.747389   \n",
       "1                    True         0.0              0.000047   \n",
       "2                   False         0.0             -1.161785   \n",
       "3                   False        -0.0             -1.184983   \n",
       "4                   False        -0.0              0.835651   \n",
       "\n",
       "   PhysicalActivity_x_Age  FamilyHistory_x_APOE  Health_Index  \\\n",
       "0                1.389398                     0             1   \n",
       "1                0.002719                     0             3   \n",
       "2                2.162494                     0             3   \n",
       "3               -0.000000                     0             3   \n",
       "4               -2.151617                     0             0   \n",
       "\n",
       "   Risk_Factor_Count  \n",
       "0                  0  \n",
       "1                  0  \n",
       "2                  1  \n",
       "3                  1  \n",
       "4                  1  \n",
       "\n",
       "[5 rows x 51 columns]"
      ]
     },
     "execution_count": 14,
     "metadata": {},
     "output_type": "execute_result"
    }
   ],
   "source": [
    "# Check the dataset after creating interaction terms\n",
    "print(f\"Dataset shape after feature creation: {data_fe.shape}\")\n",
    "data_fe.head()"
   ]
  },
  {
   "cell_type": "markdown",
   "id": "f730a5d5",
   "metadata": {},
   "source": [
    "## 3. Statistical Feature Selection"
   ]
  },
  {
   "cell_type": "code",
   "execution_count": 15,
   "id": "76f445e1",
   "metadata": {},
   "outputs": [
    {
     "name": "stdout",
     "output_type": "stream",
     "text": [
      "X shape: (74283, 50), y shape: (74283,)\n"
     ]
    }
   ],
   "source": [
    "# Separate features and target\n",
    "X = data_fe.drop(columns=[\"Alzheimer’s Diagnosis\"])\n",
    "y = data_fe[\"Alzheimer’s Diagnosis\"]\n",
    "\n",
    "print(f\"X shape: {X.shape}, y shape: {y.shape}\")"
   ]
  },
  {
   "cell_type": "code",
   "execution_count": 16,
   "id": "88bfe29f",
   "metadata": {},
   "outputs": [
    {
     "name": "stdout",
     "output_type": "stream",
     "text": [
      "Top 20 Features by Correlation with Target:\n",
      "Age                                     0.419923\n",
      "PhysicalActivity_x_Age                  0.323367\n",
      "Genetic Risk Factor (APOE-ε4 allele)    0.194484\n",
      "Age_x_APOE                              0.188766\n",
      "FamilyHistory_x_APOE                    0.148406\n",
      "Risk_Factor_Count                       0.143904\n",
      "Family History of Alzheimer’s           0.140885\n",
      "Country_Russia                          0.042795\n",
      "Country_India                           0.042032\n",
      "Country_South Africa                    0.038333\n",
      "Country_Japan                           0.034692\n",
      "Country_Brazil                          0.034295\n",
      "Country_Canada                          0.033547\n",
      "Country_Sweden                          0.033126\n",
      "Country_Mexico                          0.032645\n",
      "Country_Norway                          0.029667\n",
      "Country_China                           0.012380\n",
      "Country_USA                             0.011442\n",
      "Country_Italy                           0.009361\n",
      "Country_Spain                           0.006281\n",
      "dtype: float64\n"
     ]
    },
    {
     "data": {
      "image/png": "[encoded data removed]",
      "text/plain": [
       "<Figure size 1400x800 with 1 Axes>"
      ]
     },
     "metadata": {},
     "output_type": "display_data"
    }
   ],
   "source": [
    "# Calculate correlation with target\n",
    "correlation_with_target = X.apply(lambda x: x.corr(y))\n",
    "correlation_sorted = correlation_with_target.abs().sort_values(ascending=False)\n",
    "\n",
    "# Display top 20 features by correlation\n",
    "print(\"Top 20 Features by Correlation with Target:\")\n",
    "print(correlation_sorted[:20])\n",
    "\n",
    "# Visualize top 15 correlations\n",
    "plt.figure(figsize=(14, 8))\n",
    "correlation_sorted[:15].plot(kind='barh')\n",
    "plt.title('Top 15 Features Correlated with Alzheimer\\'s Diagnosis')\n",
    "plt.xlabel('Absolute Correlation Coefficient')\n",
    "plt.tight_layout()\n",
    "plt.show()"
   ]
  },
  {
   "cell_type": "markdown",
   "id": "54b444d6",
   "metadata": {},
   "source": [
    "### 3.1 Mutual Information for Feature Selection"
   ]
  },
  {
   "cell_type": "code",
   "execution_count": 17,
   "id": "c5735837",
   "metadata": {},
   "outputs": [
    {
     "name": "stderr",
     "output_type": "stream",
     "text": [
      "/opt/homebrew/Caskroom/miniconda/base/envs/dlt_labs/lib/python3.9/site-packages/sklearn/metrics/cluster/_supervised.py:59: UserWarning: Clustering metrics expects discrete values but received continuous values for label, and binary values for target\n",
      "  warnings.warn(msg, UserWarning)\n"
     ]
    },
    {
     "name": "stdout",
     "output_type": "stream",
     "text": [
      "Top 20 Features by Mutual Information:\n",
      "CognitiveScore_x_Age                    0.110828\n",
      "Age                                     0.105895\n",
      "PhysicalActivity_x_Age                  0.070563\n",
      "Age_x_APOE                              0.040016\n",
      "Genetic Risk Factor (APOE-ε4 allele)    0.018661\n",
      "FamilyHistory_x_APOE                    0.010910\n",
      "Risk_Factor_Count                       0.010460\n",
      "Family History of Alzheimer’s           0.009842\n",
      "Cognitive Test Score                    0.001244\n",
      "Country_Russia                          0.000902\n",
      "Country_India                           0.000870\n",
      "Country_South Africa                    0.000725\n",
      "Country_Japan                           0.000614\n",
      "Country_Brazil                          0.000581\n",
      "Country_Canada                          0.000574\n",
      "Country_Sweden                          0.000560\n",
      "Country_Mexico                          0.000526\n",
      "Country_Norway                          0.000448\n",
      "Education Level                         0.000201\n",
      "Country_China                           0.000077\n",
      "dtype: float64\n"
     ]
    },
    {
     "data": {
      "image/png": "[encoded data removed]",
      "text/plain": [
       "<Figure size 1400x800 with 1 Axes>"
      ]
     },
     "metadata": {},
     "output_type": "display_data"
    }
   ],
   "source": [
    "# Calculate mutual information scores\n",
    "# First, determine which features are discrete\n",
    "discrete_mask = []\n",
    "for col in X.columns:\n",
    "    # If number of unique values is small, consider it discrete\n",
    "    if X[col].nunique() < 21:\n",
    "        discrete_mask.append(True)\n",
    "    else:\n",
    "        discrete_mask.append(False)\n",
    "\n",
    "# Calculate mutual information\n",
    "mi_scores = mutual_info_classif(X, y, discrete_features=discrete_mask, random_state=42)\n",
    "mi_series = pd.Series(mi_scores, index=X.columns).sort_values(ascending=False)\n",
    "\n",
    "# Display top 20 features by mutual information\n",
    "print(\"Top 20 Features by Mutual Information:\")\n",
    "print(mi_series[:20])\n",
    "\n",
    "# Visualize top 15 features by mutual information\n",
    "plt.figure(figsize=(14, 8))\n",
    "mi_series[:15].plot(kind='barh')\n",
    "plt.title('Top 15 Features by Mutual Information with Alzheimer\\'s Diagnosis')\n",
    "plt.xlabel('Mutual Information Score')\n",
    "plt.tight_layout()\n",
    "plt.show()"
   ]
  },
  {
   "cell_type": "markdown",
   "id": "b6c68046",
   "metadata": {},
   "source": [
    "### 3.2 Chi-Square Test for Categorical Features"
   ]
  },
  {
   "cell_type": "code",
   "execution_count": 18,
   "id": "af3afec4",
   "metadata": {},
   "outputs": [
    {
     "name": "stdout",
     "output_type": "stream",
     "text": [
      "No categorical features found after encoding\n",
      "\n",
      "Top 20 Features by Chi-Square Test:\n",
      "Age                                     7309.092019\n",
      "PhysicalActivity_x_Age                  3719.907791\n",
      "Genetic Risk Factor (APOE-ε4 allele)    2252.840897\n",
      "FamilyHistory_x_APOE                    1539.232291\n",
      "Risk_Factor_Count                       1116.283247\n",
      "Family History of Alzheimer’s           1032.199803\n",
      "Age_x_APOE                               294.236057\n",
      "Country_Russia                           129.121723\n",
      "Country_India                            124.624198\n",
      "Country_South Africa                     103.626030\n",
      "Country_Japan                             84.889753\n",
      "Country_Brazil                            82.850532\n",
      "Country_Canada                            79.420150\n",
      "Country_Sweden                            77.464392\n",
      "Country_Mexico                            75.327492\n",
      "Country_Norway                            62.118178\n",
      "Country_China                             10.833831\n",
      "Country_USA                                9.251049\n",
      "Country_Italy                              6.182485\n",
      "Country_Spain                              2.784624\n",
      "dtype: float64\n"
     ]
    },
    {
     "data": {
      "image/png": "[encoded data removed]",
      "text/plain": [
       "<Figure size 1400x800 with 1 Axes>"
      ]
     },
     "metadata": {},
     "output_type": "display_data"
    }
   ],
   "source": [
    "# Identify categorical columns in X\n",
    "categorical_cols = X.select_dtypes(include=['object']).columns.tolist()\n",
    "\n",
    "# We'll use chi-square test for categorical features\n",
    "if categorical_cols:\n",
    "    print(\"Performing chi-square test for categorical features...\")\n",
    "else:\n",
    "    print(\"No categorical features found after encoding\")\n",
    "    \n",
    "# Ensure all features are positive (requirement for chi2)\n",
    "# Convert X to DataFrame if it's not already\n",
    "X_positive = X.copy()\n",
    "for col in X_positive.columns:\n",
    "    if X_positive[col].min() < 0:\n",
    "        # Add the absolute minimum to make all values positive\n",
    "        X_positive[col] = X_positive[col] - X_positive[col].min() + 0.1\n",
    "\n",
    "# Apply chi-square test\n",
    "chi2_scores = SelectKBest(chi2, k='all').fit(X_positive, y)\n",
    "chi2_series = pd.Series(chi2_scores.scores_, index=X.columns).sort_values(ascending=False)\n",
    "\n",
    "# Display top 20 features by chi-square\n",
    "print(\"\\nTop 20 Features by Chi-Square Test:\")\n",
    "print(chi2_series[:20])\n",
    "\n",
    "# Visualize top 15 features by chi-square\n",
    "plt.figure(figsize=(14, 8))\n",
    "chi2_series[:15].plot(kind='barh')\n",
    "plt.title('Top 15 Features by Chi-Square Test with Alzheimer\\'s Diagnosis')\n",
    "plt.xlabel('Chi-Square Score')\n",
    "plt.tight_layout()\n",
    "plt.show()"
   ]
  },
  {
   "cell_type": "markdown",
   "id": "2950a1f2",
   "metadata": {},
   "source": [
    "### 3.3 Mann-Whitney U Test for Numerical Features"
   ]
  },
  {
   "cell_type": "code",
   "execution_count": 19,
   "id": "141f11d7",
   "metadata": {},
   "outputs": [
    {
     "name": "stdout",
     "output_type": "stream",
     "text": [
      "Mann-Whitney U Test Results for Numerical Features:\n",
      "                  Feature  U Statistic   p-value   -log(p)\n",
      "0                     Age  998488536.0  0.000000       inf\n",
      "4              Age_x_APOE  771561910.5  0.000000       inf\n",
      "6  PhysicalActivity_x_Age  933837101.0  0.000000       inf\n",
      "7    FamilyHistory_x_APOE  716655254.5  0.000000       inf\n",
      "9       Risk_Factor_Count  773469457.0  0.000000       inf\n",
      "1         Education Level  672010250.0  0.308469  0.510789\n",
      "8            Health_Index  666300974.0  0.325841  0.486994\n",
      "2                     BMI  667750996.0  0.643575  0.191401\n",
      "3    Cognitive Test Score  668187672.0  0.755795  0.121596\n",
      "5    CognitiveScore_x_Age  669563806.0  0.867247  0.061857\n"
     ]
    },
    {
     "data": {
      "image/png": "[encoded data removed]",
      "text/plain": [
       "<Figure size 1400x800 with 1 Axes>"
      ]
     },
     "metadata": {},
     "output_type": "display_data"
    }
   ],
   "source": [
    "# Create a DataFrame to store Mann-Whitney results\n",
    "u_test_results = []\n",
    "\n",
    "# Perform Mann-Whitney U test for each numerical feature\n",
    "for feature in numerical_features + ['Age_x_APOE', 'CognitiveScore_x_Age', 'PhysicalActivity_x_Age',\n",
    "                                     'FamilyHistory_x_APOE', 'Health_Index', 'Risk_Factor_Count']:\n",
    "    try:\n",
    "        # Split the feature into two groups based on Alzheimer's diagnosis\n",
    "        yes_group = data_fe[data_fe[\"Alzheimer’s Diagnosis\"] == 1][feature]\n",
    "        no_group = data_fe[data_fe[\"Alzheimer’s Diagnosis\"] == 0][feature]\n",
    "        \n",
    "        # Perform Mann-Whitney U test\n",
    "        u_stat, p_value = mannwhitneyu(yes_group, no_group, alternative='two-sided')\n",
    "        \n",
    "        # Store results\n",
    "        u_test_results.append({\n",
    "            'Feature': feature,\n",
    "            'U Statistic': u_stat,\n",
    "            'p-value': p_value,\n",
    "            '-log(p)': -np.log10(p_value) if p_value > 0 else np.inf\n",
    "        })\n",
    "    except Exception as e:\n",
    "        print(f\"Error performing Mann-Whitney U test for {feature}: {e}\")\n",
    "\n",
    "# Convert to DataFrame and sort by p-value\n",
    "u_test_df = pd.DataFrame(u_test_results).sort_values(by='p-value')\n",
    "print(\"Mann-Whitney U Test Results for Numerical Features:\")\n",
    "print(u_test_df)\n",
    "\n",
    "# Visualize -log(p) values\n",
    "plt.figure(figsize=(14, 8))\n",
    "plt.barh(u_test_df['Feature'], u_test_df['-log(p)'])\n",
    "plt.title('Mann-Whitney U Test Results (-log p-value)')\n",
    "plt.xlabel('-log(p-value)')\n",
    "plt.tight_layout()\n",
    "plt.show()"
   ]
  },
  {
   "cell_type": "markdown",
   "id": "b2410ebc",
   "metadata": {},
   "source": [
    "## 4. Selecting the Final Feature Set"
   ]
  },
  {
   "cell_type": "code",
   "execution_count": 20,
   "id": "61d77a06",
   "metadata": {},
   "outputs": [
    {
     "name": "stdout",
     "output_type": "stream",
     "text": [
      "Selected 23 features:\n",
      "- Age\n",
      "- Age_x_APOE\n",
      "- Cognitive Test Score\n",
      "- CognitiveScore_x_Age\n",
      "- Country_Brazil\n",
      "- Country_Canada\n",
      "- Country_China\n",
      "- Country_India\n",
      "- Country_Italy\n",
      "- Country_Japan\n",
      "- Country_Mexico\n",
      "- Country_Norway\n",
      "- Country_Russia\n",
      "- Country_South Africa\n",
      "- Country_Spain\n",
      "- Country_Sweden\n",
      "- Country_USA\n",
      "- Education Level\n",
      "- Family History of Alzheimer’s\n",
      "- FamilyHistory_x_APOE\n",
      "- Genetic Risk Factor (APOE-ε4 allele)\n",
      "- PhysicalActivity_x_Age\n",
      "- Risk_Factor_Count\n"
     ]
    }
   ],
   "source": [
    "# Combine insights from different feature selection methods\n",
    "\n",
    "# Get top features from each method\n",
    "top_corr_features = correlation_sorted[:20].index.tolist()\n",
    "top_mi_features = mi_series[:20].index.tolist()\n",
    "top_chi2_features = chi2_series[:20].index.tolist()\n",
    "top_mw_features = u_test_df['Feature'][:10].tolist()\n",
    "\n",
    "# Find common features across multiple methods\n",
    "common_features = set()\n",
    "all_features = set(top_corr_features + top_mi_features + top_chi2_features + top_mw_features)\n",
    "\n",
    "for feature in all_features:\n",
    "    methods_count = 0\n",
    "    if feature in top_corr_features:\n",
    "        methods_count += 1\n",
    "    if feature in top_mi_features:\n",
    "        methods_count += 1\n",
    "    if feature in top_chi2_features:\n",
    "        methods_count += 1\n",
    "    if feature in top_mw_features:\n",
    "        methods_count += 1\n",
    "    \n",
    "    # If the feature appears in at least 2 methods, include it\n",
    "    if methods_count >= 2:\n",
    "        common_features.add(feature)\n",
    "\n",
    "# Add a few domain-specific features we know are important\n",
    "domain_important_features = [\n",
    "    'Age', 'Cognitive Test Score', 'Genetic Risk Factor (APOE-ε4 allele)',\n",
    "    'Family History of Alzheimer’s', 'Age_x_APOE', 'Risk_Factor_Count'\n",
    "]\n",
    "\n",
    "for feature in domain_important_features:\n",
    "    if feature in X.columns:\n",
    "        common_features.add(feature)\n",
    "\n",
    "# Convert set to list for final feature selection\n",
    "selected_features = list(common_features)\n",
    "print(f\"Selected {len(selected_features)} features:\")\n",
    "for feature in sorted(selected_features):\n",
    "    print(f\"- {feature}\")"
   ]
  },
  {
   "cell_type": "code",
   "execution_count": 21,
   "id": "9e6743e4",
   "metadata": {},
   "outputs": [
    {
     "name": "stdout",
     "output_type": "stream",
     "text": [
      "Final dataset shape: (74283, 23)\n"
     ]
    },
    {
     "data": {
      "image/png": "[encoded data removed]",
      "text/plain": [
       "<Figure size 1400x1000 with 1 Axes>"
      ]
     },
     "metadata": {},
     "output_type": "display_data"
    }
   ],
   "source": [
    "# Create the final dataset with selected features\n",
    "X_selected = X[selected_features]\n",
    "print(f\"Final dataset shape: {X_selected.shape}\")\n",
    "\n",
    "# Look at feature importance based on correlation again, but only for selected features\n",
    "correlation_selected = X_selected.apply(lambda x: x.corr(y)).abs().sort_values(ascending=False)\n",
    "\n",
    "# Visualize selected features by correlation\n",
    "plt.figure(figsize=(14, 10))\n",
    "correlation_selected.plot(kind='barh')\n",
    "plt.title('Selected Features Correlation with Alzheimer\\'s Diagnosis')\n",
    "plt.xlabel('Absolute Correlation Coefficient')\n",
    "plt.tight_layout()\n",
    "plt.show()"
   ]
  },
  {
   "cell_type": "markdown",
   "id": "36678c7c",
   "metadata": {},
   "source": [
    "## 5. Save the Engineered Dataset"
   ]
  },
  {
   "cell_type": "code",
   "execution_count": 22,
   "id": "19f362fa",
   "metadata": {},
   "outputs": [
    {
     "name": "stdout",
     "output_type": "stream",
     "text": [
      "Feature-engineered dataset saved as 'fe_statistical_approach.csv'\n"
     ]
    }
   ],
   "source": [
    "# Create the final dataset with target\n",
    "final_data = X_selected.copy()\n",
    "final_data[\"Alzheimer's Diagnosis\"] = y\n",
    "\n",
    "# Save the dataset\n",
    "final_data.to_csv(\"fe_statistical_approach.csv\", index=False)\n",
    "print(\"Feature-engineered dataset saved as 'fe_statistical_approach.csv'\")"
   ]
  },
  {
   "cell_type": "markdown",
   "id": "4f4dbc8e",
   "metadata": {},
   "source": [
    "## 6. Summary of Feature Engineering Approach\n",
    "\n",
    "In this notebook, we applied several statistical feature engineering techniques:\n",
    "\n",
    "1. **Data Encoding**:\n",
    "   - Binary encoding for binary features\n",
    "   - Ordinal encoding for ordinal features\n",
    "   - One-hot encoding for nominal features\n",
    "\n",
    "2. **Numerical Feature Processing**:\n",
    "   - Standardization to put all features on the same scale\n",
    "\n",
    "3. **Feature Creation**:\n",
    "   - Interaction terms including Age_x_APOE and CognitiveScore_x_Age\n",
    "   - Composite features like Health_Index and Risk_Factor_Count\n",
    "\n",
    "4. **Statistical Feature Selection**:\n",
    "   - Correlation analysis\n",
    "   - Mutual information\n",
    "   - Chi-square test\n",
    "   - Mann-Whitney U test\n",
    "\n",
    "5. **Final Feature Selection**:\n",
    "   - Combined multiple statistical methods to identify the most important features\n",
    "   - Added domain-specific important features\n",
    "\n",
    "This approach focused on using statistical methods to identify the most predictive features for Alzheimer's disease. The resulting feature set can be used for modeling in subsequent notebooks."
   ]
  },
  {
   "cell_type": "code",
   "execution_count": null,
   "id": "d419a0df",
   "metadata": {},
   "outputs": [],
   "source": []
  }
 ],
 "metadata": {
  "kernelspec": {
   "display_name": "dlt_labs",
   "language": "python",
   "name": "python3"
  },
  "language_info": {
   "codemirror_mode": {
    "name": "ipython",
    "version": 3
   },
   "file_extension": ".py",
   "mimetype": "text/x-python",
   "name": "python",
   "nbconvert_exporter": "python",
   "pygments_lexer": "ipython3",
   "version": "3.9.21"
  }
 },
 "nbformat": 4,
 "nbformat_minor": 5
}
